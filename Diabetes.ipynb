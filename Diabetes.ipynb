{
 "cells": [
  {
   "cell_type": "code",
   "execution_count": 5,
   "metadata": {},
   "outputs": [
    {
     "name": "stdout",
     "output_type": "stream",
     "text": [
      "Training Set MSE: 0.3160\n",
      "Test Set MSE: 0.3073\n",
      "[1]\n"
     ]
    }
   ],
   "source": [
    "import numpy as np\n",
    "import pandas as pd\n",
    "from sklearn import linear_model\n",
    "from sklearn.model_selection import train_test_split\n",
    "from sklearn.metrics import mean_squared_error\n",
    "from sklearn import ensemble\n",
    "from sklearn.externals import joblib\n",
    "\n",
    "diabetes_data = pd.read_csv('diabetes.csv')\n",
    "\n",
    "columns = ['BMI', 'Age']\n",
    "\n",
    "X = np.c_[diabetes_data[columns]]\n",
    "y = np.c_[diabetes_data[\"Outcome\"]]\n",
    "\n",
    "X_train, X_test, y_train, y_test = train_test_split(X,y, test_size=0.25)\n",
    "\n",
    "model = linear_model.LogisticRegression()\n",
    "\n",
    "model.fit(X_train,y_train.ravel())\n",
    "\n",
    "joblib.dump(model, 'trained_diabetes_model.pkl')\n",
    "\n",
    "mse = mean_squared_error(y_train, model.predict(X_train))\n",
    "\n",
    "print (\"Training Set MSE: %.4f\" % mse)\n",
    "\n",
    "mse1 = mean_squared_error(y_test, model.predict(X_test))\n",
    "\n",
    "print (\"Test Set MSE: %.4f\" % mse1)\n",
    "\n",
    "X_new = [[43.1, 33]]\n",
    "print (model.predict(X_new))"
   ]
  }
 ],
 "metadata": {
  "kernelspec": {
   "display_name": "Python 3",
   "language": "python",
   "name": "python3"
  },
  "language_info": {
   "codemirror_mode": {
    "name": "ipython",
    "version": 3
   },
   "file_extension": ".py",
   "mimetype": "text/x-python",
   "name": "python",
   "nbconvert_exporter": "python",
   "pygments_lexer": "ipython3",
   "version": "3.5.3"
  }
 },
 "nbformat": 4,
 "nbformat_minor": 2
}
